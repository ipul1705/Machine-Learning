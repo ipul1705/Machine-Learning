{
 "cells": [
  {
   "cell_type": "markdown",
   "metadata": {
    "papermill": {
     "duration": 0.006273,
     "end_time": "2023-02-20T21:18:03.199353",
     "exception": false,
     "start_time": "2023-02-20T21:18:03.193080",
     "status": "completed"
    },
    "tags": []
   },
   "source": [
    "### Baseline Tasks to Handle\n",
    "   - **Pipline**\n",
    "        1. **Data Exploration**\n",
    "        2. **Preprocessing**\n",
    "        3. **Model Selection**\n",
    "           1. Model Tuning\n",
    "           2. Model Evaluation\n",
    "        2. **Submission**\n",
    "<div class=\"alert alert-info\">\n",
    "  <strong>The goal of competition</strong> , the goal of the competition is to predict MDS-UPDR scores, which measure the progression of Parkinson's disease in patients. The MDS-UPDRS is a widely used assessment tool for Parkinson's disease, which evaluates both motor and non-motor symptoms associated with the disease\n",
    "</div>"
   ]
  },
  {
   "cell_type": "code",
   "execution_count": null,
   "metadata": {
    "papermill": {
     "duration": 24.410338,
     "end_time": "2023-02-20T21:18:27.614959",
     "exception": false,
     "start_time": "2023-02-20T21:18:03.204621",
     "status": "completed"
    },
    "tags": []
   },
   "outputs": [],
   "source": [
    "%%capture\n",
    "!pip install ydata_profiling\n",
    "!pip install fasteda\n"
   ]
  },
  {
   "cell_type": "code",
   "execution_count": null,
   "metadata": {
    "papermill": {
     "duration": 4.004272,
     "end_time": "2023-02-20T21:18:31.624487",
     "exception": false,
     "start_time": "2023-02-20T21:18:27.620215",
     "status": "completed"
    },
    "tags": []
   },
   "outputs": [],
   "source": [
    "## Loading Packages \n",
    "import pandas as pd\n",
    "import numpy as np\n",
    "from ydata_profiling import ProfileReport\n",
    "from fasteda import fast_eda\n",
    "from sklearn.ensemble import GradientBoostingRegressor\n",
    "from sklearn.model_selection import train_test_split\n",
    "from sklearn.model_selection import GridSearchCV, RandomizedSearchCV\n",
    "from sklearn import metrics\n",
    "from sklearn.metrics import r2_score, mean_squared_error, make_scorer\n",
    "from sklearn.metrics import confusion_matrix,precision_score,recall_score,classification_report, accuracy_score\n",
    "from sklearn.model_selection import RepeatedStratifiedKFold, StratifiedKFold\n",
    "from sklearn.model_selection import cross_val_score\n",
    "from sklearn.preprocessing import MinMaxScaler\n",
    "import torch\n",
    "from tqdm.notebook import tqdm\n",
    "import torch.nn as nn\n",
    "import torch.optim as optim\n",
    "from torch.utils.data import DataLoader, TensorDataset\n",
    "import warnings\n",
    "\n",
    "warnings.filterwarnings('ignore')"
   ]
  },
  {
   "cell_type": "markdown",
   "metadata": {
    "papermill": {
     "duration": 0.004824,
     "end_time": "2023-02-20T21:18:31.634398",
     "exception": false,
     "start_time": "2023-02-20T21:18:31.629574",
     "status": "completed"
    },
    "tags": []
   },
   "source": [
    "\n",
    "1. **Data Exploration**\n",
    "      1. Load the data: Start by loading the data provided for the competition, \n",
    "      2. Check for missing data: Missing data can cause issues during modeling, so it's important to check for any missing data in the dataset. \n",
    "      3. Analyze the distribution of features: It's important to understand the distribution of the features in the dataset. This will help you decide if you need to perform any scaling or normalization on the data before modeling. \n",
    "      <div class=\"alert alert-warning\">\n",
    "  <strong>Package Used fast_eda and ydata_profiling </strong> for not losing time during Full EDA from Sratch will explore some Built Packages has all nessecery functionalities to AutoEDA \n",
    "</div>"
   ]
  },
  {
   "cell_type": "code",
   "execution_count": null,
   "metadata": {
    "papermill": {
     "duration": 1.389612,
     "end_time": "2023-02-20T21:18:33.028714",
     "exception": false,
     "start_time": "2023-02-20T21:18:31.639102",
     "status": "completed"
    },
    "tags": []
   },
   "outputs": [],
   "source": [
    "proteins = pd.read_csv(\"/kaggle/input/amp-parkinsons-disease-progression-prediction/train_proteins.csv\")\n",
    "peptides = pd.read_csv(\"/kaggle/input/amp-parkinsons-disease-progression-prediction/train_peptides.csv\")\n",
    "clinical = pd.read_csv(\"/kaggle/input/amp-parkinsons-disease-progression-prediction/train_clinical_data.csv\")"
   ]
  },
  {
   "cell_type": "markdown",
   "metadata": {
    "papermill": {
     "duration": 0.005196,
     "end_time": "2023-02-20T21:18:33.039674",
     "exception": false,
     "start_time": "2023-02-20T21:18:33.034478",
     "status": "completed"
    },
    "tags": []
   },
   "source": [
    "#### Generate General Report of Clinical dataset \n",
    "   * Using Fast Eda to Exploartion each dataset of training \n",
    "      **proteins and peptides**"
   ]
  },
  {
   "cell_type": "code",
   "execution_count": null,
   "metadata": {
    "papermill": {
     "duration": 17.737144,
     "end_time": "2023-02-20T21:18:50.781868",
     "exception": false,
     "start_time": "2023-02-20T21:18:33.044724",
     "status": "completed"
    },
    "tags": []
   },
   "outputs": [],
   "source": [
    "profile = ProfileReport(clinical, title=\"Profiling Report\")\n",
    "profile.to_notebook_iframe()\n"
   ]
  },
  {
   "cell_type": "code",
   "execution_count": null,
   "metadata": {
    "papermill": {
     "duration": 0.157853,
     "end_time": "2023-02-20T21:18:50.985375",
     "exception": false,
     "start_time": "2023-02-20T21:18:50.827522",
     "status": "completed"
    },
    "tags": []
   },
   "outputs": [],
   "source": [
    "profile.to_file(\"Profiling Repor.html\")"
   ]
  },
  {
   "cell_type": "code",
   "execution_count": null,
   "metadata": {
    "papermill": {
     "duration": 122.89167,
     "end_time": "2023-02-20T21:20:53.951985",
     "exception": false,
     "start_time": "2023-02-20T21:18:51.060315",
     "status": "completed"
    },
    "tags": []
   },
   "outputs": [],
   "source": [
    "fast_eda(proteins)"
   ]
  },
  {
   "cell_type": "code",
   "execution_count": null,
   "metadata": {
    "papermill": {
     "duration": 174.829341,
     "end_time": "2023-02-20T21:23:48.834260",
     "exception": false,
     "start_time": "2023-02-20T21:20:54.004919",
     "status": "completed"
    },
    "tags": []
   },
   "outputs": [],
   "source": [
    "fast_eda(peptides)"
   ]
  },
  {
   "cell_type": "markdown",
   "metadata": {
    "papermill": {
     "duration": 0.05771,
     "end_time": "2023-02-20T21:23:48.951724",
     "exception": false,
     "start_time": "2023-02-20T21:23:48.894014",
     "status": "completed"
    },
    "tags": []
   },
   "source": [
    "### **Preprocessing**\n",
    "   - Analyze the relationships between features: In addition to analyzing the distribution of individual features, it's important to understand how different features are related to each other. You can use scatter plots or correlation matrices to analyze the relationships between features. This will help you decide which features to include in the model and how to perform feature engineering.\n",
    "\n",
    " - Feature Engineering: Feature engineering is the process of creating new features or transforming existing features to improve the performance of the model. In this competition, you may need to perform feature engineering on the protein and peptide levels over time to extract useful information for predicting MDS-UPDR scores.\n",
    "\n",
    " - Split the data into train, validation, and test sets: Once you have preprocessed the data and performed feature engineering, you can split the data into a training set, a validation set, and a test set. The training set will be used to train the model, the validation set will be used to tune the hyperparameters of the model, and the test set will be used to evaluate the performance of the final model."
   ]
  },
  {
   "cell_type": "code",
   "execution_count": null,
   "metadata": {
    "papermill": {
     "duration": 0.075461,
     "end_time": "2023-02-20T21:23:49.085402",
     "exception": false,
     "start_time": "2023-02-20T21:23:49.009941",
     "status": "completed"
    },
    "tags": []
   },
   "outputs": [],
   "source": [
    "df_0 = clinical[(clinical.visit_month == 0)][['visit_id','updrs_1']]\n",
    "print('Train shape:', df_0.shape)\n",
    "df_0.head()"
   ]
  },
  {
   "cell_type": "code",
   "execution_count": null,
   "metadata": {
    "papermill": {
     "duration": 0.109752,
     "end_time": "2023-02-20T21:23:49.251423",
     "exception": false,
     "start_time": "2023-02-20T21:23:49.141671",
     "status": "completed"
    },
    "tags": []
   },
   "outputs": [],
   "source": [
    "proteins_npx_ft = proteins.groupby('visit_id').agg(NPX_min=('NPX','min'), NPX_max=('NPX','max'), NPX_mean=('NPX','mean'), NPX_std=('NPX','std'))\\\n",
    "                .reset_index()\n",
    "proteins_npx_ft.head()"
   ]
  },
  {
   "cell_type": "code",
   "execution_count": null,
   "metadata": {
    "papermill": {
     "duration": 0.104518,
     "end_time": "2023-02-20T21:23:49.413583",
     "exception": false,
     "start_time": "2023-02-20T21:23:49.309065",
     "status": "completed"
    },
    "tags": []
   },
   "outputs": [],
   "source": [
    "df_proteins = pd.merge(proteins, df_0, on = 'visit_id', how = 'inner').reset_index()\n",
    "proteins_Uniprot_updrs = df_proteins.groupby('UniProt').agg(updrs_1_sum = ('updrs_1','mean')).reset_index()\n",
    "proteins_Uniprot_updrs.head()"
   ]
  },
  {
   "cell_type": "code",
   "execution_count": null,
   "metadata": {
    "papermill": {
     "duration": 0.145428,
     "end_time": "2023-02-20T21:23:49.616414",
     "exception": false,
     "start_time": "2023-02-20T21:23:49.470986",
     "status": "completed"
    },
    "tags": []
   },
   "outputs": [],
   "source": [
    "df_proteins = pd.merge(proteins, proteins_Uniprot_updrs, on = 'UniProt', how = 'left')\n",
    "proteins_UniProt_ft = df_proteins.groupby('visit_id').agg(proteins_updrs_1_min=('updrs_1_sum','min'), proteins_updrs_1_max=('updrs_1_sum','max'),\\\n",
    "                                                          proteins_updrs_1_mean=('updrs_1_sum','mean'), proteins_updrs_1_std=('updrs_1_sum','std'))\\\n",
    "                .reset_index()\n",
    "proteins_UniProt_ft.head()"
   ]
  },
  {
   "cell_type": "code",
   "execution_count": null,
   "metadata": {
    "papermill": {
     "duration": 0.076391,
     "end_time": "2023-02-20T21:23:49.751217",
     "exception": false,
     "start_time": "2023-02-20T21:23:49.674826",
     "status": "completed"
    },
    "tags": []
   },
   "outputs": [],
   "source": [
    "peptides.head()"
   ]
  },
  {
   "cell_type": "code",
   "execution_count": null,
   "metadata": {
    "papermill": {
     "duration": 0.172165,
     "end_time": "2023-02-20T21:23:49.979875",
     "exception": false,
     "start_time": "2023-02-20T21:23:49.807710",
     "status": "completed"
    },
    "tags": []
   },
   "outputs": [],
   "source": [
    "peptides_PeptideAbundance_ft = peptides.groupby('visit_id').agg(Abe_min=('PeptideAbundance','min'), Abe_max=('PeptideAbundance','max'),\\\n",
    "                                                                Abe_mean=('PeptideAbundance','mean'), Abe_std=('PeptideAbundance','std'))\\\n",
    "                .reset_index()\n",
    "peptides_PeptideAbundance_ft.head()"
   ]
  },
  {
   "cell_type": "code",
   "execution_count": null,
   "metadata": {
    "papermill": {
     "duration": 0.179278,
     "end_time": "2023-02-20T21:23:50.217756",
     "exception": false,
     "start_time": "2023-02-20T21:23:50.038478",
     "status": "completed"
    },
    "tags": []
   },
   "outputs": [],
   "source": [
    "df_peptides = pd.merge(peptides, df_0, on = 'visit_id', how = 'inner').reset_index()\n",
    "peptides_PeptideAbundance_updrs = df_peptides.groupby('Peptide').agg(updrs_1_sum = ('updrs_1','mean')).reset_index()\n",
    "peptides_PeptideAbundance_updrs.head()"
   ]
  },
  {
   "cell_type": "code",
   "execution_count": null,
   "metadata": {
    "papermill": {
     "duration": 0.420297,
     "end_time": "2023-02-20T21:23:50.696287",
     "exception": false,
     "start_time": "2023-02-20T21:23:50.275990",
     "status": "completed"
    },
    "tags": []
   },
   "outputs": [],
   "source": [
    "df_peptides = pd.merge(peptides, peptides_PeptideAbundance_updrs, on = 'Peptide', how = 'left')\n",
    "peptides_ft = df_peptides.groupby('visit_id').agg(peptides_updrs_1_min=('updrs_1_sum','min'), peptides_updrs_1_max=('updrs_1_sum','max'),\\\n",
    "                                                          peptides_updrs_1_mean=('updrs_1_sum','mean'), peptides_updrs_1_std=('updrs_1_sum','std'))\\\n",
    "                .reset_index()\n",
    "peptides_ft"
   ]
  },
  {
   "cell_type": "code",
   "execution_count": null,
   "metadata": {
    "papermill": {
     "duration": 0.407435,
     "end_time": "2023-02-20T21:23:51.171027",
     "exception": false,
     "start_time": "2023-02-20T21:23:50.763592",
     "status": "completed"
    },
    "tags": []
   },
   "outputs": [],
   "source": [
    "df_0_1 = clinical[(clinical.visit_month == 3)][['visit_id','updrs_1']]\n",
    "df_0_2 = clinical[(clinical.visit_month == 3)][['visit_id','updrs_2']]\n",
    "df_0_3 = clinical[(clinical.visit_month == 3)][['visit_id','updrs_3']]\n",
    "df_0_4 = clinical[(clinical.visit_month == 3)][['visit_id','updrs_4']]\n",
    "\n",
    "df_proteins = pd.merge(proteins, df_0_1, on = 'visit_id', how = 'inner').reset_index()\n",
    "proteins_Uniprot_updrs1 = df_proteins.groupby('UniProt').agg(updrs_1_sum = ('updrs_1','mean')).reset_index()\n",
    "\n",
    "df_proteins = pd.merge(proteins, df_0_2, on = 'visit_id', how = 'inner').reset_index()\n",
    "proteins_Uniprot_updrs2 = df_proteins.groupby('UniProt').agg(updrs_1_sum = ('updrs_2','mean')).reset_index()\n",
    "\n",
    "df_proteins = pd.merge(proteins, df_0_3, on = 'visit_id', how = 'inner').reset_index()\n",
    "proteins_Uniprot_updrs3 = df_proteins.groupby('UniProt').agg(updrs_1_sum = ('updrs_3','mean')).reset_index()\n",
    "\n",
    "df_proteins = pd.merge(proteins, df_0_4, on = 'visit_id', how = 'inner').reset_index()\n",
    "proteins_Uniprot_updrs4 = df_proteins.groupby('UniProt').agg(updrs_1_sum = ('updrs_4','mean')).reset_index()\n",
    "\n",
    "df_peptides = pd.merge(peptides, df_0_1, on = 'visit_id', how = 'inner').reset_index()\n",
    "peptides_PeptideAbundance_updrs1 = df_peptides.groupby('Peptide').agg(updrs_1_sum = ('updrs_1','mean')).reset_index()\n",
    "\n",
    "df_peptides = pd.merge(peptides, df_0_2, on = 'visit_id', how = 'inner').reset_index()\n",
    "peptides_PeptideAbundance_updrs2 = df_peptides.groupby('Peptide').agg(updrs_1_sum = ('updrs_2','mean')).reset_index()\n",
    "\n",
    "df_peptides = pd.merge(peptides, df_0_3, on = 'visit_id', how = 'inner').reset_index()\n",
    "peptides_PeptideAbundance_updrs3 = df_peptides.groupby('Peptide').agg(updrs_1_sum = ('updrs_3','mean')).reset_index()\n",
    "\n",
    "df_peptides = pd.merge(peptides, df_0_4, on = 'visit_id', how = 'inner').reset_index()\n",
    "peptides_PeptideAbundance_updrs4 = df_peptides.groupby('Peptide').agg(updrs_1_sum = ('updrs_4','mean')).reset_index()\n",
    "\n",
    "df_proteins_fts = [proteins_Uniprot_updrs1, proteins_Uniprot_updrs2, proteins_Uniprot_updrs3, proteins_Uniprot_updrs4]\n",
    "df_peptides_fts = [peptides_PeptideAbundance_updrs1, peptides_PeptideAbundance_updrs2, peptides_PeptideAbundance_updrs3, peptides_PeptideAbundance_updrs4]\n",
    "df_lst = [df_0_1, df_0_2, df_0_3, df_0_4]\n"
   ]
  },
  {
   "cell_type": "code",
   "execution_count": null,
   "metadata": {
    "papermill": {
     "duration": 0.075651,
     "end_time": "2023-02-20T21:23:51.305856",
     "exception": false,
     "start_time": "2023-02-20T21:23:51.230205",
     "status": "completed"
    },
    "tags": []
   },
   "outputs": [],
   "source": [
    "def features(df, proteins, peptides, classes):\n",
    "    proteins_npx_ft = proteins.groupby('visit_id').agg(NPX_min=('NPX','min'), NPX_max=('NPX','max'), NPX_mean=('NPX','mean'), NPX_std=('NPX','std'))\\\n",
    "                    .reset_index()\n",
    "    peptides_PeptideAbundance_ft = peptides.groupby('visit_id').agg(Abe_min=('PeptideAbundance','min'), Abe_max=('PeptideAbundance','max'),\\\n",
    "                                                                    Abe_mean=('PeptideAbundance','mean'), Abe_std=('PeptideAbundance','std'))\\\n",
    "                    .reset_index()\n",
    "\n",
    "    df_proteins = pd.merge(proteins, df_proteins_fts[classes], on = 'UniProt', how = 'left')\n",
    "    proteins_UniProt_ft = df_proteins.groupby('visit_id').agg(proteins_updrs_1_min=('updrs_1_sum','min'), proteins_updrs_1_max=('updrs_1_sum','max'),\\\n",
    "                                                              proteins_updrs_1_mean=('updrs_1_sum','mean'), proteins_updrs_1_std=('updrs_1_sum','std'))\\\n",
    "                    .reset_index()\n",
    "    df_peptides = pd.merge(peptides, df_peptides_fts[classes], on = 'Peptide', how = 'left')\n",
    "    peptides_ft = df_peptides.groupby('visit_id').agg(peptides_updrs_1_min=('updrs_1_sum','min'), peptides_updrs_1_max=('updrs_1_sum','max'),\\\n",
    "                                                              peptides_updrs_1_mean=('updrs_1_sum','mean'), peptides_updrs_1_std=('updrs_1_sum','std'))\\\n",
    "                    .reset_index()\n",
    "\n",
    "    df = pd.merge(df, proteins_npx_ft, on = 'visit_id', how = 'left')\n",
    "    df = pd.merge(df, peptides_PeptideAbundance_ft, on = 'visit_id', how = 'left')\n",
    "    df = pd.merge(df, proteins_UniProt_ft, on = 'visit_id', how = 'left')\n",
    "    df = pd.merge(df, peptides_ft, on = 'visit_id', how = 'left')\n",
    "    df = df.fillna(df.mean())\n",
    "    return df"
   ]
  },
  {
   "cell_type": "code",
   "execution_count": null,
   "metadata": {
    "papermill": {
     "duration": 0.596804,
     "end_time": "2023-02-20T21:23:51.960414",
     "exception": false,
     "start_time": "2023-02-20T21:23:51.363610",
     "status": "completed"
    },
    "tags": []
   },
   "outputs": [],
   "source": [
    "train_0 = features(df_0_1, proteins, peptides, 0)\n",
    "train_0.head(3)"
   ]
  },
  {
   "cell_type": "markdown",
   "metadata": {
    "papermill": {
     "duration": 0.058785,
     "end_time": "2023-02-20T21:23:52.078288",
     "exception": false,
     "start_time": "2023-02-20T21:23:52.019503",
     "status": "completed"
    },
    "tags": []
   },
   "source": [
    "### Model Selection \n",
    "   - Split the data into training, validation, and test sets: Before select model selection,\n",
    "    \n",
    "   - Tune hyperparameters: For each candidate model, you need to tune their hyperparameters to improve their performance. Hyperparameters are parameters that are set before training the model and cannot be learned from the data. in our case will use **GradientBoostingRegressor**\n",
    "\n",
    "  - Select the best model: trained and evaluated all the candidate models, and tuned their hyperparameters, you can select the best model based on their performance on the validation set.retrain the best model on the training and validation sets combined and evaluate its performance on the test set.\n",
    "\n",
    "  - Validate your results: Finally, it's important to validate our results by testing the performance of our best model on unseen data. If the performance on the test set is significantly worse than the performance on the validation set, it's possible that you overfit the hyperparameters to the validation set."
   ]
  },
  {
   "cell_type": "code",
   "execution_count": null,
   "metadata": {
    "papermill": {
     "duration": 0.069975,
     "end_time": "2023-02-20T21:23:52.206938",
     "exception": false,
     "start_time": "2023-02-20T21:23:52.136963",
     "status": "completed"
    },
    "tags": []
   },
   "outputs": [],
   "source": [
    "#Evaluation metric\n",
    "def smape(y_true, y_pred):\n",
    "    smap = np.zeros(len(y_true))\n",
    "    \n",
    "    num = np.abs(y_true - y_pred)\n",
    "    dem = ((np.abs(y_true) + np.abs(y_pred)) / 2)\n",
    "    \n",
    "    pos_ind = (y_true!=0)|(y_pred!=0)\n",
    "    smap[pos_ind] = num[pos_ind] / dem[pos_ind]\n",
    "    \n",
    "    return 100 * np.mean(smap)"
   ]
  },
  {
   "cell_type": "code",
   "execution_count": null,
   "metadata": {
    "papermill": {
     "duration": 1.175009,
     "end_time": "2023-02-20T21:23:53.439742",
     "exception": false,
     "start_time": "2023-02-20T21:23:52.264733",
     "status": "completed"
    },
    "tags": []
   },
   "outputs": [],
   "source": [
    "# Preprocess data\n",
    "mms = MinMaxScaler()\n",
    "train_0 = features(df_lst[0], proteins, peptides, 0)\n",
    "scale_col = ['NPX_min','NPX_max','NPX_mean','NPX_std', 'Abe_min', 'Abe_max', 'Abe_mean', 'Abe_std']\n",
    "train_0[scale_col] = mms.fit_transform(train_0[scale_col])\n",
    "X_train = train_0.drop(columns = ['visit_id','updrs_1'], axis = 1)\n",
    "y_train = train_0['updrs_1']\n",
    "X_train = np.asarray(X_train)\n",
    "y_train = np.asarray(y_train)\n",
    "\n",
    "# Split data into training and validation sets\n",
    "X_train, X_val, y_train, y_val = train_test_split(X_train, y_train, test_size=0.2, random_state=42)\n",
    "\n",
    "# Create PyTorch data loaders\n",
    "train_dataset = TensorDataset(torch.from_numpy(X_train).float(), torch.from_numpy(y_train).float())\n",
    "train_loader = DataLoader(train_dataset, batch_size=32, shuffle=True)\n",
    "val_dataset = TensorDataset(torch.from_numpy(X_val).float(), torch.from_numpy(y_val).float())\n",
    "val_loader = DataLoader(val_dataset, batch_size=32)\n",
    "\n",
    "# Define neural network architecture\n",
    "class UPDRSNet(nn.Module):\n",
    "    def __init__(self, input_size, hidden_size):\n",
    "        super(UPDRSNet, self).__init__()\n",
    "        self.fc1 = nn.Linear(input_size, hidden_size)\n",
    "        self.fc2 = nn.Linear(hidden_size, hidden_size)\n",
    "        self.fc3 = nn.Linear(hidden_size, 4)\n",
    "\n",
    "    def forward(self, x):\n",
    "        x = nn.functional.relu(self.fc1(x))\n",
    "        x = nn.functional.relu(self.fc2(x))\n",
    "        x = self.fc3(x)\n",
    "        return x\n",
    "\n",
    "# Initialize neural network\n",
    "updrs_net = UPDRSNet(X_train.shape[1], 64)\n",
    "\n",
    "# Define loss function and optimizer\n",
    "criterion = nn.MSELoss()\n",
    "optimizer = optim.Adam(updrs_net.parameters(), lr=0.001)\n",
    "\n",
    "# Train neural network\n",
    "for epoch in range(100):\n",
    "    train_loss = 0.0\n",
    "    val_loss = 0.0\n",
    "\n",
    "    # Train on training set\n",
    "    updrs_net.train()\n",
    "    for i, data in enumerate(train_loader):\n",
    "        inputs, labels = data\n",
    "        optimizer.zero_grad()\n",
    "        outputs = updrs_net(inputs)\n",
    "        loss = criterion(outputs.view(-1,1), labels)\n",
    "        loss.backward()\n",
    "        optimizer.step()\n",
    "        train_loss += loss.item() * inputs.size(0)\n",
    "\n",
    "    # Evaluate on validation set\n",
    "    updrs_net.eval()\n",
    "    with torch.no_grad():\n",
    "        for i, data in enumerate(val_loader):\n",
    "            inputs, labels = data\n",
    "            outputs = updrs_net(inputs)\n",
    "#             metric = smape(outputs.view(-1,1),labels.unsqueeze(1))\n",
    "            loss = criterion(outputs.view(-1,1), labels)\n",
    "            val_loss += loss.item() * inputs.size(0)\n",
    "\n",
    "    print(f\"Epoch {epoch+1} train loss: {train_loss/len(train_dataset)}, val loss: {val_loss/len(val_dataset)}\")"
   ]
  },
  {
   "cell_type": "code",
   "execution_count": null,
   "metadata": {
    "papermill": {
     "duration": 988.116182,
     "end_time": "2023-02-20T21:40:21.615673",
     "exception": false,
     "start_time": "2023-02-20T21:23:53.499491",
     "status": "completed"
    },
    "tags": []
   },
   "outputs": [],
   "source": [
    "model = {}\n",
    "mms = MinMaxScaler()\n",
    "n_estimators = [5,20,50,100] # number of trees in the random forest\n",
    "learning_rate = [0.01, 0.001,0.02] # number of features in consideration at every split\n",
    "max_depth = [int(x) for x in np.linspace(10, 120, num = 12)] # maximum number of levels allowed in each decision tree\n",
    "random_state = [20, 30, 42] # minimum sample number to split a node\n",
    "\n",
    "\n",
    "for i in range(2):\n",
    "    print('--------------------------------------------------------')\n",
    "    print('Model {0}'.format(i + 1))\n",
    "    train_0 = features(df_lst[i], proteins, peptides, i)\n",
    "    scale_col = ['NPX_min','NPX_max','NPX_mean','NPX_std', 'Abe_min', 'Abe_max', 'Abe_mean', 'Abe_std']\n",
    "    train_0[scale_col] = mms.fit_transform(train_0[scale_col])\n",
    "    \n",
    "    gbr = GradientBoostingRegressor()\n",
    "    param_gbr = [{'n_estimators': n_estimators,\n",
    "\n",
    "    'learning_rate': learning_rate,\n",
    "\n",
    "    'max_depth': max_depth,\n",
    "\n",
    "    'random_state': random_state,\n",
    "}]\n",
    "    cv = RepeatedStratifiedKFold(n_splits=10, n_repeats=10, random_state=42)\n",
    "    GradientBoost = GridSearchCV(gbr, param_gbr, cv=cv, scoring='neg_mean_absolute_error')\n",
    "    \n",
    "    X = train_0.drop(columns = ['visit_id','updrs_{0}'.format(i + 1)], axis = 1)\n",
    "    y = train_0['updrs_{0}'.format(i + 1)]\n",
    "    GradientBoost.fit(X, y)\n",
    "\n",
    "    print(GradientBoost.best_params_)\n",
    "\n",
    "    print(GradientBoost.best_score_)\n",
    "    print('Train smape:',smape(train_0['updrs_{0}'.format(i + 1)], GradientBoost.predict(train_0.drop(columns = ['visit_id','updrs_{0}'.format(i + 1)], axis = 1))))\n",
    "    model[i] = GradientBoost"
   ]
  },
  {
   "cell_type": "markdown",
   "metadata": {
    "papermill": {
     "duration": 0.058872,
     "end_time": "2023-02-20T21:40:21.732996",
     "exception": false,
     "start_time": "2023-02-20T21:40:21.674124",
     "status": "completed"
    },
    "tags": []
   },
   "source": [
    "### Submission and Evaluation\n",
    "1. **Model Evaluation:** \n",
    "    Once the model is trained and tuned, we will need to evaluate its performance on the test set. This involves making predictions on the test set and calculating the evaluation metric specified in the competition rules. It is important to ensure that the model generalizes well to new data and performs well on the test set.\n",
    "\n",
    "2. **Submission:**\n",
    "    Finally, we will need to make a submission to the competition by submitting your predictions for the test set. You should ensure that the submission file is in the correct format and that it meets the submission guidelines specified in the competition rules."
   ]
  },
  {
   "cell_type": "code",
   "execution_count": null,
   "metadata": {
    "papermill": {
     "duration": 0.073979,
     "end_time": "2023-02-20T21:40:21.866499",
     "exception": false,
     "start_time": "2023-02-20T21:40:21.792520",
     "status": "completed"
    },
    "tags": []
   },
   "outputs": [],
   "source": [
    "updrs_3_pred = {}\n",
    "up3 = clinical[['visit_month','updrs_3']].drop_duplicates(['visit_month','updrs_3'])\n",
    "updrs_3_pred = dict(zip(up3.visit_month, up3.updrs_3))\n",
    "updrs_3_pred"
   ]
  },
  {
   "cell_type": "code",
   "execution_count": null,
   "metadata": {
    "papermill": {
     "duration": 0.091012,
     "end_time": "2023-02-20T21:40:22.016369",
     "exception": false,
     "start_time": "2023-02-20T21:40:21.925357",
     "status": "completed"
    },
    "tags": []
   },
   "outputs": [],
   "source": [
    "import amp_pd_peptide\n",
    "env = amp_pd_peptide.make_env()\n",
    "iter_test = env.iter_test()"
   ]
  },
  {
   "cell_type": "code",
   "execution_count": null,
   "metadata": {
    "papermill": {
     "duration": 0.308805,
     "end_time": "2023-02-20T21:40:22.391755",
     "exception": false,
     "start_time": "2023-02-20T21:40:22.082950",
     "status": "completed"
    },
    "tags": []
   },
   "outputs": [],
   "source": [
    "def map_test(x):\n",
    "    updrs = x.split('_')[2] + '_' + x.split('_')[3]\n",
    "    month = int(x.split('_plus_')[1].split('_')[0])\n",
    "    visit_id = x.split('_')[0] + '_' + x.split('_')[1]\n",
    "    # set all predictions 0 where updrs equals 'updrs_4'\n",
    "    if updrs=='updrs_3':\n",
    "        rating = updrs_3_pred[month]\n",
    "    elif updrs=='updrs_4':\n",
    "        rating = 0\n",
    "    elif updrs =='updrs_1':\n",
    "        rating = df[df.visit_id == visit_id]['pred0'].values[0]\n",
    "    else:\n",
    "        rating = df[df.visit_id == visit_id]['pred1'].values[0]\n",
    "    return rating\n",
    "\n",
    "counter = 0\n",
    "# The API will deliver four dataframes in this specific order:\n",
    "for (test, test_peptides, test_proteins, sample_submission) in iter_test:\n",
    "    df = test[['visit_id']].drop_duplicates('visit_id')\n",
    "    pred_0 = features(df[['visit_id']], test_proteins, test_peptides, 0)\n",
    "    scale_col = ['NPX_min','NPX_max','NPX_mean','NPX_std', 'Abe_min', 'Abe_max', 'Abe_mean', 'Abe_std']\n",
    "    pred_0[scale_col] = mms.fit_transform(pred_0[scale_col])\n",
    "    pred_0 = model[0].predict(pred_0.drop(columns = ['visit_id'], axis = 1))\n",
    "    df['pred0'] = pred_0\n",
    "    \n",
    "    pred_1 = features(df[['visit_id']], test_proteins, test_peptides, 1)\n",
    "    scale_col = ['NPX_min','NPX_max','NPX_mean','NPX_std', 'Abe_min', 'Abe_max', 'Abe_mean', 'Abe_std']\n",
    "    pred_1[scale_col] = mms.fit_transform(pred_1[scale_col])\n",
    "    pred_1 = model[1].predict(pred_1.drop(columns = ['visit_id'], axis = 1))\n",
    "    df['pred1'] = pred_1\n",
    "    \n",
    "    sample_submission['rating'] = sample_submission['prediction_id'].apply(map_test)\n",
    "    env.predict(sample_submission)\n",
    "    \n",
    "    if counter == 0:\n",
    "        display(test)\n",
    "        display(sample_submission)\n",
    "        \n",
    "    counter += 1"
   ]
  }
 ],
 "metadata": {
  "kernelspec": {
   "display_name": "Python 3",
   "language": "python",
   "name": "python3"
  },
  "language_info": {
   "codemirror_mode": {
    "name": "ipython",
    "version": 3
   },
   "file_extension": ".py",
   "mimetype": "text/x-python",
   "name": "python",
   "nbconvert_exporter": "python",
   "pygments_lexer": "ipython3",
   "version": "3.8.5"
  },
  "papermill": {
   "default_parameters": {},
   "duration": 1349.284475,
   "end_time": "2023-02-20T21:40:25.076074",
   "environment_variables": {},
   "exception": null,
   "input_path": "__notebook__.ipynb",
   "output_path": "__notebook__.ipynb",
   "parameters": {},
   "start_time": "2023-02-20T21:17:55.791599",
   "version": "2.3.4"
  },
  "widgets": {
   "application/vnd.jupyter.widget-state+json": {
    "state": {
     "13c6762fe76e4cd292d76e06e7f46f21": {
      "model_module": "@jupyter-widgets/base",
      "model_module_version": "1.2.0",
      "model_name": "LayoutModel",
      "state": {
       "_model_module": "@jupyter-widgets/base",
       "_model_module_version": "1.2.0",
       "_model_name": "LayoutModel",
       "_view_count": null,
       "_view_module": "@jupyter-widgets/base",
       "_view_module_version": "1.2.0",
       "_view_name": "LayoutView",
       "align_content": null,
       "align_items": null,
       "align_self": null,
       "border": null,
       "bottom": null,
       "display": null,
       "flex": null,
       "flex_flow": null,
       "grid_area": null,
       "grid_auto_columns": null,
       "grid_auto_flow": null,
       "grid_auto_rows": null,
       "grid_column": null,
       "grid_gap": null,
       "grid_row": null,
       "grid_template_areas": null,
       "grid_template_columns": null,
       "grid_template_rows": null,
       "height": null,
       "justify_content": null,
       "justify_items": null,
       "left": null,
       "margin": null,
       "max_height": null,
       "max_width": null,
       "min_height": null,
       "min_width": null,
       "object_fit": null,
       "object_position": null,
       "order": null,
       "overflow": null,
       "overflow_x": null,
       "overflow_y": null,
       "padding": null,
       "right": null,
       "top": null,
       "visibility": null,
       "width": null
      }
     },
     "1875b8ae2bf2433ca10fea603d487f8a": {
      "model_module": "@jupyter-widgets/base",
      "model_module_version": "1.2.0",
      "model_name": "LayoutModel",
      "state": {
       "_model_module": "@jupyter-widgets/base",
       "_model_module_version": "1.2.0",
       "_model_name": "LayoutModel",
       "_view_count": null,
       "_view_module": "@jupyter-widgets/base",
       "_view_module_version": "1.2.0",
       "_view_name": "LayoutView",
       "align_content": null,
       "align_items": null,
       "align_self": null,
       "border": null,
       "bottom": null,
       "display": null,
       "flex": null,
       "flex_flow": null,
       "grid_area": null,
       "grid_auto_columns": null,
       "grid_auto_flow": null,
       "grid_auto_rows": null,
       "grid_column": null,
       "grid_gap": null,
       "grid_row": null,
       "grid_template_areas": null,
       "grid_template_columns": null,
       "grid_template_rows": null,
       "height": null,
       "justify_content": null,
       "justify_items": null,
       "left": null,
       "margin": null,
       "max_height": null,
       "max_width": null,
       "min_height": null,
       "min_width": null,
       "object_fit": null,
       "object_position": null,
       "order": null,
       "overflow": null,
       "overflow_x": null,
       "overflow_y": null,
       "padding": null,
       "right": null,
       "top": null,
       "visibility": null,
       "width": null
      }
     },
     "1e3d718cc2014289975b9d3927916bdf": {
      "model_module": "@jupyter-widgets/base",
      "model_module_version": "1.2.0",
      "model_name": "LayoutModel",
      "state": {
       "_model_module": "@jupyter-widgets/base",
       "_model_module_version": "1.2.0",
       "_model_name": "LayoutModel",
       "_view_count": null,
       "_view_module": "@jupyter-widgets/base",
       "_view_module_version": "1.2.0",
       "_view_name": "LayoutView",
       "align_content": null,
       "align_items": null,
       "align_self": null,
       "border": null,
       "bottom": null,
       "display": null,
       "flex": null,
       "flex_flow": null,
       "grid_area": null,
       "grid_auto_columns": null,
       "grid_auto_flow": null,
       "grid_auto_rows": null,
       "grid_column": null,
       "grid_gap": null,
       "grid_row": null,
       "grid_template_areas": null,
       "grid_template_columns": null,
       "grid_template_rows": null,
       "height": null,
       "justify_content": null,
       "justify_items": null,
       "left": null,
       "margin": null,
       "max_height": null,
       "max_width": null,
       "min_height": null,
       "min_width": null,
       "object_fit": null,
       "object_position": null,
       "order": null,
       "overflow": null,
       "overflow_x": null,
       "overflow_y": null,
       "padding": null,
       "right": null,
       "top": null,
       "visibility": null,
       "width": null
      }
     },
     "25b6f21ddc9848f2ab13dfe2124dd137": {
      "model_module": "@jupyter-widgets/controls",
      "model_module_version": "1.5.0",
      "model_name": "ProgressStyleModel",
      "state": {
       "_model_module": "@jupyter-widgets/controls",
       "_model_module_version": "1.5.0",
       "_model_name": "ProgressStyleModel",
       "_view_count": null,
       "_view_module": "@jupyter-widgets/base",
       "_view_module_version": "1.2.0",
       "_view_name": "StyleView",
       "bar_color": null,
       "description_width": ""
      }
     },
     "26afe6404f12456b88e4c43d4757782e": {
      "model_module": "@jupyter-widgets/controls",
      "model_module_version": "1.5.0",
      "model_name": "HTMLModel",
      "state": {
       "_dom_classes": [],
       "_model_module": "@jupyter-widgets/controls",
       "_model_module_version": "1.5.0",
       "_model_name": "HTMLModel",
       "_view_count": null,
       "_view_module": "@jupyter-widgets/controls",
       "_view_module_version": "1.5.0",
       "_view_name": "HTMLView",
       "description": "",
       "description_tooltip": null,
       "layout": "IPY_MODEL_8c89200bef4f4ea6947f88e3b4704116",
       "placeholder": "​",
       "style": "IPY_MODEL_e40952094c684a3c821832b6250ad69d",
       "value": " 54/54 [00:11&lt;00:00,  3.48it/s, Completed]"
      }
     },
     "2ceb472864c34b66b863718399fa8da1": {
      "model_module": "@jupyter-widgets/controls",
      "model_module_version": "1.5.0",
      "model_name": "DescriptionStyleModel",
      "state": {
       "_model_module": "@jupyter-widgets/controls",
       "_model_module_version": "1.5.0",
       "_model_name": "DescriptionStyleModel",
       "_view_count": null,
       "_view_module": "@jupyter-widgets/base",
       "_view_module_version": "1.2.0",
       "_view_name": "StyleView",
       "description_width": ""
      }
     },
     "2d41d986b421478c819a7c16f6e4349e": {
      "model_module": "@jupyter-widgets/controls",
      "model_module_version": "1.5.0",
      "model_name": "HBoxModel",
      "state": {
       "_dom_classes": [],
       "_model_module": "@jupyter-widgets/controls",
       "_model_module_version": "1.5.0",
       "_model_name": "HBoxModel",
       "_view_count": null,
       "_view_module": "@jupyter-widgets/controls",
       "_view_module_version": "1.5.0",
       "_view_name": "HBoxView",
       "box_style": "",
       "children": [
        "IPY_MODEL_4022ed8211b1400da601165f46cfdc50",
        "IPY_MODEL_a306c06344dd48a494d60c84cf76cbfd",
        "IPY_MODEL_26afe6404f12456b88e4c43d4757782e"
       ],
       "layout": "IPY_MODEL_f770959fce1546d190bcb41bd6c69850"
      }
     },
     "32a1ea958fbc4339aae237a81cf75860": {
      "model_module": "@jupyter-widgets/controls",
      "model_module_version": "1.5.0",
      "model_name": "HTMLModel",
      "state": {
       "_dom_classes": [],
       "_model_module": "@jupyter-widgets/controls",
       "_model_module_version": "1.5.0",
       "_model_name": "HTMLModel",
       "_view_count": null,
       "_view_module": "@jupyter-widgets/controls",
       "_view_module_version": "1.5.0",
       "_view_name": "HTMLView",
       "description": "",
       "description_tooltip": null,
       "layout": "IPY_MODEL_dd2422080d7445ba8c7157d321935bcb",
       "placeholder": "​",
       "style": "IPY_MODEL_f4100cc9be54405ebad2fcf92007499b",
       "value": "Generate report structure: 100%"
      }
     },
     "4022ed8211b1400da601165f46cfdc50": {
      "model_module": "@jupyter-widgets/controls",
      "model_module_version": "1.5.0",
      "model_name": "HTMLModel",
      "state": {
       "_dom_classes": [],
       "_model_module": "@jupyter-widgets/controls",
       "_model_module_version": "1.5.0",
       "_model_name": "HTMLModel",
       "_view_count": null,
       "_view_module": "@jupyter-widgets/controls",
       "_view_module_version": "1.5.0",
       "_view_name": "HTMLView",
       "description": "",
       "description_tooltip": null,
       "layout": "IPY_MODEL_f655046bfda142d7802cbbe666b3b564",
       "placeholder": "​",
       "style": "IPY_MODEL_b30653a4fd034d5ca0dda816acef708e",
       "value": "Summarize dataset: 100%"
      }
     },
     "5842deb52a3b47ed834887e09d0585be": {
      "model_module": "@jupyter-widgets/base",
      "model_module_version": "1.2.0",
      "model_name": "LayoutModel",
      "state": {
       "_model_module": "@jupyter-widgets/base",
       "_model_module_version": "1.2.0",
       "_model_name": "LayoutModel",
       "_view_count": null,
       "_view_module": "@jupyter-widgets/base",
       "_view_module_version": "1.2.0",
       "_view_name": "LayoutView",
       "align_content": null,
       "align_items": null,
       "align_self": null,
       "border": null,
       "bottom": null,
       "display": null,
       "flex": null,
       "flex_flow": null,
       "grid_area": null,
       "grid_auto_columns": null,
       "grid_auto_flow": null,
       "grid_auto_rows": null,
       "grid_column": null,
       "grid_gap": null,
       "grid_row": null,
       "grid_template_areas": null,
       "grid_template_columns": null,
       "grid_template_rows": null,
       "height": null,
       "justify_content": null,
       "justify_items": null,
       "left": null,
       "margin": null,
       "max_height": null,
       "max_width": null,
       "min_height": null,
       "min_width": null,
       "object_fit": null,
       "object_position": null,
       "order": null,
       "overflow": null,
       "overflow_x": null,
       "overflow_y": null,
       "padding": null,
       "right": null,
       "top": null,
       "visibility": null,
       "width": null
      }
     },
     "5ac56ce772cf48f58851ce9b7cc587d1": {
      "model_module": "@jupyter-widgets/controls",
      "model_module_version": "1.5.0",
      "model_name": "HTMLModel",
      "state": {
       "_dom_classes": [],
       "_model_module": "@jupyter-widgets/controls",
       "_model_module_version": "1.5.0",
       "_model_name": "HTMLModel",
       "_view_count": null,
       "_view_module": "@jupyter-widgets/controls",
       "_view_module_version": "1.5.0",
       "_view_name": "HTMLView",
       "description": "",
       "description_tooltip": null,
       "layout": "IPY_MODEL_5842deb52a3b47ed834887e09d0585be",
       "placeholder": "​",
       "style": "IPY_MODEL_d088eaaf98f74ebc99877e58ac9d1f60",
       "value": "Export report to file: 100%"
      }
     },
     "5d7166166caa46c88f0fe38d69717f53": {
      "model_module": "@jupyter-widgets/controls",
      "model_module_version": "1.5.0",
      "model_name": "HTMLModel",
      "state": {
       "_dom_classes": [],
       "_model_module": "@jupyter-widgets/controls",
       "_model_module_version": "1.5.0",
       "_model_name": "HTMLModel",
       "_view_count": null,
       "_view_module": "@jupyter-widgets/controls",
       "_view_module_version": "1.5.0",
       "_view_name": "HTMLView",
       "description": "",
       "description_tooltip": null,
       "layout": "IPY_MODEL_1875b8ae2bf2433ca10fea603d487f8a",
       "placeholder": "​",
       "style": "IPY_MODEL_f1b0b2112cce49d59fe45560523f32dd",
       "value": "Render HTML: 100%"
      }
     },
     "6186c548f91d49269ef118a4afd92b49": {
      "model_module": "@jupyter-widgets/controls",
      "model_module_version": "1.5.0",
      "model_name": "HBoxModel",
      "state": {
       "_dom_classes": [],
       "_model_module": "@jupyter-widgets/controls",
       "_model_module_version": "1.5.0",
       "_model_name": "HBoxModel",
       "_view_count": null,
       "_view_module": "@jupyter-widgets/controls",
       "_view_module_version": "1.5.0",
       "_view_name": "HBoxView",
       "box_style": "",
       "children": [
        "IPY_MODEL_32a1ea958fbc4339aae237a81cf75860",
        "IPY_MODEL_ab46ea59566b47ab8614c1daf8c515de",
        "IPY_MODEL_8394fd9d87b145bcba7ccdca73bae1de"
       ],
       "layout": "IPY_MODEL_13c6762fe76e4cd292d76e06e7f46f21"
      }
     },
     "784104e559f94733911eddf733b52688": {
      "model_module": "@jupyter-widgets/controls",
      "model_module_version": "1.5.0",
      "model_name": "ProgressStyleModel",
      "state": {
       "_model_module": "@jupyter-widgets/controls",
       "_model_module_version": "1.5.0",
       "_model_name": "ProgressStyleModel",
       "_view_count": null,
       "_view_module": "@jupyter-widgets/base",
       "_view_module_version": "1.2.0",
       "_view_name": "StyleView",
       "bar_color": null,
       "description_width": ""
      }
     },
     "7a7564bca3a047de9eafcdd10221f69b": {
      "model_module": "@jupyter-widgets/base",
      "model_module_version": "1.2.0",
      "model_name": "LayoutModel",
      "state": {
       "_model_module": "@jupyter-widgets/base",
       "_model_module_version": "1.2.0",
       "_model_name": "LayoutModel",
       "_view_count": null,
       "_view_module": "@jupyter-widgets/base",
       "_view_module_version": "1.2.0",
       "_view_name": "LayoutView",
       "align_content": null,
       "align_items": null,
       "align_self": null,
       "border": null,
       "bottom": null,
       "display": null,
       "flex": null,
       "flex_flow": null,
       "grid_area": null,
       "grid_auto_columns": null,
       "grid_auto_flow": null,
       "grid_auto_rows": null,
       "grid_column": null,
       "grid_gap": null,
       "grid_row": null,
       "grid_template_areas": null,
       "grid_template_columns": null,
       "grid_template_rows": null,
       "height": null,
       "justify_content": null,
       "justify_items": null,
       "left": null,
       "margin": null,
       "max_height": null,
       "max_width": null,
       "min_height": null,
       "min_width": null,
       "object_fit": null,
       "object_position": null,
       "order": null,
       "overflow": null,
       "overflow_x": null,
       "overflow_y": null,
       "padding": null,
       "right": null,
       "top": null,
       "visibility": null,
       "width": null
      }
     },
     "7f627da3ee584baeae968a7b8a724b83": {
      "model_module": "@jupyter-widgets/base",
      "model_module_version": "1.2.0",
      "model_name": "LayoutModel",
      "state": {
       "_model_module": "@jupyter-widgets/base",
       "_model_module_version": "1.2.0",
       "_model_name": "LayoutModel",
       "_view_count": null,
       "_view_module": "@jupyter-widgets/base",
       "_view_module_version": "1.2.0",
       "_view_name": "LayoutView",
       "align_content": null,
       "align_items": null,
       "align_self": null,
       "border": null,
       "bottom": null,
       "display": null,
       "flex": null,
       "flex_flow": null,
       "grid_area": null,
       "grid_auto_columns": null,
       "grid_auto_flow": null,
       "grid_auto_rows": null,
       "grid_column": null,
       "grid_gap": null,
       "grid_row": null,
       "grid_template_areas": null,
       "grid_template_columns": null,
       "grid_template_rows": null,
       "height": null,
       "justify_content": null,
       "justify_items": null,
       "left": null,
       "margin": null,
       "max_height": null,
       "max_width": null,
       "min_height": null,
       "min_width": null,
       "object_fit": null,
       "object_position": null,
       "order": null,
       "overflow": null,
       "overflow_x": null,
       "overflow_y": null,
       "padding": null,
       "right": null,
       "top": null,
       "visibility": null,
       "width": null
      }
     },
     "83279b982b394e0db167d1ec133698d1": {
      "model_module": "@jupyter-widgets/controls",
      "model_module_version": "1.5.0",
      "model_name": "ProgressStyleModel",
      "state": {
       "_model_module": "@jupyter-widgets/controls",
       "_model_module_version": "1.5.0",
       "_model_name": "ProgressStyleModel",
       "_view_count": null,
       "_view_module": "@jupyter-widgets/base",
       "_view_module_version": "1.2.0",
       "_view_name": "StyleView",
       "bar_color": null,
       "description_width": ""
      }
     },
     "8394fd9d87b145bcba7ccdca73bae1de": {
      "model_module": "@jupyter-widgets/controls",
      "model_module_version": "1.5.0",
      "model_name": "HTMLModel",
      "state": {
       "_dom_classes": [],
       "_model_module": "@jupyter-widgets/controls",
       "_model_module_version": "1.5.0",
       "_model_name": "HTMLModel",
       "_view_count": null,
       "_view_module": "@jupyter-widgets/controls",
       "_view_module_version": "1.5.0",
       "_view_name": "HTMLView",
       "description": "",
       "description_tooltip": null,
       "layout": "IPY_MODEL_7f627da3ee584baeae968a7b8a724b83",
       "placeholder": "​",
       "style": "IPY_MODEL_abb1d13482b34643a776953e0a8beb33",
       "value": " 1/1 [00:04&lt;00:00,  4.42s/it]"
      }
     },
     "867806cf4e5545f68e2e4ae338168c04": {
      "model_module": "@jupyter-widgets/controls",
      "model_module_version": "1.5.0",
      "model_name": "FloatProgressModel",
      "state": {
       "_dom_classes": [],
       "_model_module": "@jupyter-widgets/controls",
       "_model_module_version": "1.5.0",
       "_model_name": "FloatProgressModel",
       "_view_count": null,
       "_view_module": "@jupyter-widgets/controls",
       "_view_module_version": "1.5.0",
       "_view_name": "ProgressView",
       "bar_style": "success",
       "description": "",
       "description_tooltip": null,
       "layout": "IPY_MODEL_7a7564bca3a047de9eafcdd10221f69b",
       "max": 1,
       "min": 0,
       "orientation": "horizontal",
       "style": "IPY_MODEL_d887ec8c0b3549efb7d09d35951317d2",
       "value": 1
      }
     },
     "8779d8cb6c0244b69b7520244f6579ce": {
      "model_module": "@jupyter-widgets/controls",
      "model_module_version": "1.5.0",
      "model_name": "HBoxModel",
      "state": {
       "_dom_classes": [],
       "_model_module": "@jupyter-widgets/controls",
       "_model_module_version": "1.5.0",
       "_model_name": "HBoxModel",
       "_view_count": null,
       "_view_module": "@jupyter-widgets/controls",
       "_view_module_version": "1.5.0",
       "_view_name": "HBoxView",
       "box_style": "",
       "children": [
        "IPY_MODEL_5d7166166caa46c88f0fe38d69717f53",
        "IPY_MODEL_867806cf4e5545f68e2e4ae338168c04",
        "IPY_MODEL_e8a65111604647c0a82eda6f0bcc245f"
       ],
       "layout": "IPY_MODEL_1e3d718cc2014289975b9d3927916bdf"
      }
     },
     "8c89200bef4f4ea6947f88e3b4704116": {
      "model_module": "@jupyter-widgets/base",
      "model_module_version": "1.2.0",
      "model_name": "LayoutModel",
      "state": {
       "_model_module": "@jupyter-widgets/base",
       "_model_module_version": "1.2.0",
       "_model_name": "LayoutModel",
       "_view_count": null,
       "_view_module": "@jupyter-widgets/base",
       "_view_module_version": "1.2.0",
       "_view_name": "LayoutView",
       "align_content": null,
       "align_items": null,
       "align_self": null,
       "border": null,
       "bottom": null,
       "display": null,
       "flex": null,
       "flex_flow": null,
       "grid_area": null,
       "grid_auto_columns": null,
       "grid_auto_flow": null,
       "grid_auto_rows": null,
       "grid_column": null,
       "grid_gap": null,
       "grid_row": null,
       "grid_template_areas": null,
       "grid_template_columns": null,
       "grid_template_rows": null,
       "height": null,
       "justify_content": null,
       "justify_items": null,
       "left": null,
       "margin": null,
       "max_height": null,
       "max_width": null,
       "min_height": null,
       "min_width": null,
       "object_fit": null,
       "object_position": null,
       "order": null,
       "overflow": null,
       "overflow_x": null,
       "overflow_y": null,
       "padding": null,
       "right": null,
       "top": null,
       "visibility": null,
       "width": null
      }
     },
     "983e0c7dc6a04676b9c56f4fb55772e9": {
      "model_module": "@jupyter-widgets/controls",
      "model_module_version": "1.5.0",
      "model_name": "FloatProgressModel",
      "state": {
       "_dom_classes": [],
       "_model_module": "@jupyter-widgets/controls",
       "_model_module_version": "1.5.0",
       "_model_name": "FloatProgressModel",
       "_view_count": null,
       "_view_module": "@jupyter-widgets/controls",
       "_view_module_version": "1.5.0",
       "_view_name": "ProgressView",
       "bar_style": "success",
       "description": "",
       "description_tooltip": null,
       "layout": "IPY_MODEL_e1a7519778b345ed8c25f67ad7650fc1",
       "max": 1,
       "min": 0,
       "orientation": "horizontal",
       "style": "IPY_MODEL_784104e559f94733911eddf733b52688",
       "value": 1
      }
     },
     "985af22e5dcc436cb41b7ed717cabd98": {
      "model_module": "@jupyter-widgets/base",
      "model_module_version": "1.2.0",
      "model_name": "LayoutModel",
      "state": {
       "_model_module": "@jupyter-widgets/base",
       "_model_module_version": "1.2.0",
       "_model_name": "LayoutModel",
       "_view_count": null,
       "_view_module": "@jupyter-widgets/base",
       "_view_module_version": "1.2.0",
       "_view_name": "LayoutView",
       "align_content": null,
       "align_items": null,
       "align_self": null,
       "border": null,
       "bottom": null,
       "display": null,
       "flex": null,
       "flex_flow": null,
       "grid_area": null,
       "grid_auto_columns": null,
       "grid_auto_flow": null,
       "grid_auto_rows": null,
       "grid_column": null,
       "grid_gap": null,
       "grid_row": null,
       "grid_template_areas": null,
       "grid_template_columns": null,
       "grid_template_rows": null,
       "height": null,
       "justify_content": null,
       "justify_items": null,
       "left": null,
       "margin": null,
       "max_height": null,
       "max_width": null,
       "min_height": null,
       "min_width": null,
       "object_fit": null,
       "object_position": null,
       "order": null,
       "overflow": null,
       "overflow_x": null,
       "overflow_y": null,
       "padding": null,
       "right": null,
       "top": null,
       "visibility": null,
       "width": null
      }
     },
     "a16c7b3354374803b84bb919da84e2a3": {
      "model_module": "@jupyter-widgets/base",
      "model_module_version": "1.2.0",
      "model_name": "LayoutModel",
      "state": {
       "_model_module": "@jupyter-widgets/base",
       "_model_module_version": "1.2.0",
       "_model_name": "LayoutModel",
       "_view_count": null,
       "_view_module": "@jupyter-widgets/base",
       "_view_module_version": "1.2.0",
       "_view_name": "LayoutView",
       "align_content": null,
       "align_items": null,
       "align_self": null,
       "border": null,
       "bottom": null,
       "display": null,
       "flex": null,
       "flex_flow": null,
       "grid_area": null,
       "grid_auto_columns": null,
       "grid_auto_flow": null,
       "grid_auto_rows": null,
       "grid_column": null,
       "grid_gap": null,
       "grid_row": null,
       "grid_template_areas": null,
       "grid_template_columns": null,
       "grid_template_rows": null,
       "height": null,
       "justify_content": null,
       "justify_items": null,
       "left": null,
       "margin": null,
       "max_height": null,
       "max_width": null,
       "min_height": null,
       "min_width": null,
       "object_fit": null,
       "object_position": null,
       "order": null,
       "overflow": null,
       "overflow_x": null,
       "overflow_y": null,
       "padding": null,
       "right": null,
       "top": null,
       "visibility": null,
       "width": null
      }
     },
     "a306c06344dd48a494d60c84cf76cbfd": {
      "model_module": "@jupyter-widgets/controls",
      "model_module_version": "1.5.0",
      "model_name": "FloatProgressModel",
      "state": {
       "_dom_classes": [],
       "_model_module": "@jupyter-widgets/controls",
       "_model_module_version": "1.5.0",
       "_model_name": "FloatProgressModel",
       "_view_count": null,
       "_view_module": "@jupyter-widgets/controls",
       "_view_module_version": "1.5.0",
       "_view_name": "ProgressView",
       "bar_style": "success",
       "description": "",
       "description_tooltip": null,
       "layout": "IPY_MODEL_e212af1cb6de4787a363333bf5111cf0",
       "max": 5,
       "min": 0,
       "orientation": "horizontal",
       "style": "IPY_MODEL_83279b982b394e0db167d1ec133698d1",
       "value": 5
      }
     },
     "ab46ea59566b47ab8614c1daf8c515de": {
      "model_module": "@jupyter-widgets/controls",
      "model_module_version": "1.5.0",
      "model_name": "FloatProgressModel",
      "state": {
       "_dom_classes": [],
       "_model_module": "@jupyter-widgets/controls",
       "_model_module_version": "1.5.0",
       "_model_name": "FloatProgressModel",
       "_view_count": null,
       "_view_module": "@jupyter-widgets/controls",
       "_view_module_version": "1.5.0",
       "_view_name": "ProgressView",
       "bar_style": "success",
       "description": "",
       "description_tooltip": null,
       "layout": "IPY_MODEL_a16c7b3354374803b84bb919da84e2a3",
       "max": 1,
       "min": 0,
       "orientation": "horizontal",
       "style": "IPY_MODEL_25b6f21ddc9848f2ab13dfe2124dd137",
       "value": 1
      }
     },
     "abb1d13482b34643a776953e0a8beb33": {
      "model_module": "@jupyter-widgets/controls",
      "model_module_version": "1.5.0",
      "model_name": "DescriptionStyleModel",
      "state": {
       "_model_module": "@jupyter-widgets/controls",
       "_model_module_version": "1.5.0",
       "_model_name": "DescriptionStyleModel",
       "_view_count": null,
       "_view_module": "@jupyter-widgets/base",
       "_view_module_version": "1.2.0",
       "_view_name": "StyleView",
       "description_width": ""
      }
     },
     "b18994cc5d404d28a411ffb13463ea8b": {
      "model_module": "@jupyter-widgets/controls",
      "model_module_version": "1.5.0",
      "model_name": "HTMLModel",
      "state": {
       "_dom_classes": [],
       "_model_module": "@jupyter-widgets/controls",
       "_model_module_version": "1.5.0",
       "_model_name": "HTMLModel",
       "_view_count": null,
       "_view_module": "@jupyter-widgets/controls",
       "_view_module_version": "1.5.0",
       "_view_name": "HTMLView",
       "description": "",
       "description_tooltip": null,
       "layout": "IPY_MODEL_985af22e5dcc436cb41b7ed717cabd98",
       "placeholder": "​",
       "style": "IPY_MODEL_eef0b36ac0774a7b9f09a9d5177bca5e",
       "value": " 1/1 [00:00&lt;00:00, 14.96it/s]"
      }
     },
     "b30653a4fd034d5ca0dda816acef708e": {
      "model_module": "@jupyter-widgets/controls",
      "model_module_version": "1.5.0",
      "model_name": "DescriptionStyleModel",
      "state": {
       "_model_module": "@jupyter-widgets/controls",
       "_model_module_version": "1.5.0",
       "_model_name": "DescriptionStyleModel",
       "_view_count": null,
       "_view_module": "@jupyter-widgets/base",
       "_view_module_version": "1.2.0",
       "_view_name": "StyleView",
       "description_width": ""
      }
     },
     "b5474536f3af459a9ff072a0dbb44e6a": {
      "model_module": "@jupyter-widgets/base",
      "model_module_version": "1.2.0",
      "model_name": "LayoutModel",
      "state": {
       "_model_module": "@jupyter-widgets/base",
       "_model_module_version": "1.2.0",
       "_model_name": "LayoutModel",
       "_view_count": null,
       "_view_module": "@jupyter-widgets/base",
       "_view_module_version": "1.2.0",
       "_view_name": "LayoutView",
       "align_content": null,
       "align_items": null,
       "align_self": null,
       "border": null,
       "bottom": null,
       "display": null,
       "flex": null,
       "flex_flow": null,
       "grid_area": null,
       "grid_auto_columns": null,
       "grid_auto_flow": null,
       "grid_auto_rows": null,
       "grid_column": null,
       "grid_gap": null,
       "grid_row": null,
       "grid_template_areas": null,
       "grid_template_columns": null,
       "grid_template_rows": null,
       "height": null,
       "justify_content": null,
       "justify_items": null,
       "left": null,
       "margin": null,
       "max_height": null,
       "max_width": null,
       "min_height": null,
       "min_width": null,
       "object_fit": null,
       "object_position": null,
       "order": null,
       "overflow": null,
       "overflow_x": null,
       "overflow_y": null,
       "padding": null,
       "right": null,
       "top": null,
       "visibility": null,
       "width": null
      }
     },
     "c11d110b3f454bd88920d5c9a61ca581": {
      "model_module": "@jupyter-widgets/base",
      "model_module_version": "1.2.0",
      "model_name": "LayoutModel",
      "state": {
       "_model_module": "@jupyter-widgets/base",
       "_model_module_version": "1.2.0",
       "_model_name": "LayoutModel",
       "_view_count": null,
       "_view_module": "@jupyter-widgets/base",
       "_view_module_version": "1.2.0",
       "_view_name": "LayoutView",
       "align_content": null,
       "align_items": null,
       "align_self": null,
       "border": null,
       "bottom": null,
       "display": null,
       "flex": null,
       "flex_flow": null,
       "grid_area": null,
       "grid_auto_columns": null,
       "grid_auto_flow": null,
       "grid_auto_rows": null,
       "grid_column": null,
       "grid_gap": null,
       "grid_row": null,
       "grid_template_areas": null,
       "grid_template_columns": null,
       "grid_template_rows": null,
       "height": null,
       "justify_content": null,
       "justify_items": null,
       "left": null,
       "margin": null,
       "max_height": null,
       "max_width": null,
       "min_height": null,
       "min_width": null,
       "object_fit": null,
       "object_position": null,
       "order": null,
       "overflow": null,
       "overflow_x": null,
       "overflow_y": null,
       "padding": null,
       "right": null,
       "top": null,
       "visibility": null,
       "width": null
      }
     },
     "d088eaaf98f74ebc99877e58ac9d1f60": {
      "model_module": "@jupyter-widgets/controls",
      "model_module_version": "1.5.0",
      "model_name": "DescriptionStyleModel",
      "state": {
       "_model_module": "@jupyter-widgets/controls",
       "_model_module_version": "1.5.0",
       "_model_name": "DescriptionStyleModel",
       "_view_count": null,
       "_view_module": "@jupyter-widgets/base",
       "_view_module_version": "1.2.0",
       "_view_name": "StyleView",
       "description_width": ""
      }
     },
     "d87dae171b004abcb993b9782c1f3184": {
      "model_module": "@jupyter-widgets/controls",
      "model_module_version": "1.5.0",
      "model_name": "HBoxModel",
      "state": {
       "_dom_classes": [],
       "_model_module": "@jupyter-widgets/controls",
       "_model_module_version": "1.5.0",
       "_model_name": "HBoxModel",
       "_view_count": null,
       "_view_module": "@jupyter-widgets/controls",
       "_view_module_version": "1.5.0",
       "_view_name": "HBoxView",
       "box_style": "",
       "children": [
        "IPY_MODEL_5ac56ce772cf48f58851ce9b7cc587d1",
        "IPY_MODEL_983e0c7dc6a04676b9c56f4fb55772e9",
        "IPY_MODEL_b18994cc5d404d28a411ffb13463ea8b"
       ],
       "layout": "IPY_MODEL_c11d110b3f454bd88920d5c9a61ca581"
      }
     },
     "d887ec8c0b3549efb7d09d35951317d2": {
      "model_module": "@jupyter-widgets/controls",
      "model_module_version": "1.5.0",
      "model_name": "ProgressStyleModel",
      "state": {
       "_model_module": "@jupyter-widgets/controls",
       "_model_module_version": "1.5.0",
       "_model_name": "ProgressStyleModel",
       "_view_count": null,
       "_view_module": "@jupyter-widgets/base",
       "_view_module_version": "1.2.0",
       "_view_name": "StyleView",
       "bar_color": null,
       "description_width": ""
      }
     },
     "dd2422080d7445ba8c7157d321935bcb": {
      "model_module": "@jupyter-widgets/base",
      "model_module_version": "1.2.0",
      "model_name": "LayoutModel",
      "state": {
       "_model_module": "@jupyter-widgets/base",
       "_model_module_version": "1.2.0",
       "_model_name": "LayoutModel",
       "_view_count": null,
       "_view_module": "@jupyter-widgets/base",
       "_view_module_version": "1.2.0",
       "_view_name": "LayoutView",
       "align_content": null,
       "align_items": null,
       "align_self": null,
       "border": null,
       "bottom": null,
       "display": null,
       "flex": null,
       "flex_flow": null,
       "grid_area": null,
       "grid_auto_columns": null,
       "grid_auto_flow": null,
       "grid_auto_rows": null,
       "grid_column": null,
       "grid_gap": null,
       "grid_row": null,
       "grid_template_areas": null,
       "grid_template_columns": null,
       "grid_template_rows": null,
       "height": null,
       "justify_content": null,
       "justify_items": null,
       "left": null,
       "margin": null,
       "max_height": null,
       "max_width": null,
       "min_height": null,
       "min_width": null,
       "object_fit": null,
       "object_position": null,
       "order": null,
       "overflow": null,
       "overflow_x": null,
       "overflow_y": null,
       "padding": null,
       "right": null,
       "top": null,
       "visibility": null,
       "width": null
      }
     },
     "e1a7519778b345ed8c25f67ad7650fc1": {
      "model_module": "@jupyter-widgets/base",
      "model_module_version": "1.2.0",
      "model_name": "LayoutModel",
      "state": {
       "_model_module": "@jupyter-widgets/base",
       "_model_module_version": "1.2.0",
       "_model_name": "LayoutModel",
       "_view_count": null,
       "_view_module": "@jupyter-widgets/base",
       "_view_module_version": "1.2.0",
       "_view_name": "LayoutView",
       "align_content": null,
       "align_items": null,
       "align_self": null,
       "border": null,
       "bottom": null,
       "display": null,
       "flex": null,
       "flex_flow": null,
       "grid_area": null,
       "grid_auto_columns": null,
       "grid_auto_flow": null,
       "grid_auto_rows": null,
       "grid_column": null,
       "grid_gap": null,
       "grid_row": null,
       "grid_template_areas": null,
       "grid_template_columns": null,
       "grid_template_rows": null,
       "height": null,
       "justify_content": null,
       "justify_items": null,
       "left": null,
       "margin": null,
       "max_height": null,
       "max_width": null,
       "min_height": null,
       "min_width": null,
       "object_fit": null,
       "object_position": null,
       "order": null,
       "overflow": null,
       "overflow_x": null,
       "overflow_y": null,
       "padding": null,
       "right": null,
       "top": null,
       "visibility": null,
       "width": null
      }
     },
     "e212af1cb6de4787a363333bf5111cf0": {
      "model_module": "@jupyter-widgets/base",
      "model_module_version": "1.2.0",
      "model_name": "LayoutModel",
      "state": {
       "_model_module": "@jupyter-widgets/base",
       "_model_module_version": "1.2.0",
       "_model_name": "LayoutModel",
       "_view_count": null,
       "_view_module": "@jupyter-widgets/base",
       "_view_module_version": "1.2.0",
       "_view_name": "LayoutView",
       "align_content": null,
       "align_items": null,
       "align_self": null,
       "border": null,
       "bottom": null,
       "display": null,
       "flex": null,
       "flex_flow": null,
       "grid_area": null,
       "grid_auto_columns": null,
       "grid_auto_flow": null,
       "grid_auto_rows": null,
       "grid_column": null,
       "grid_gap": null,
       "grid_row": null,
       "grid_template_areas": null,
       "grid_template_columns": null,
       "grid_template_rows": null,
       "height": null,
       "justify_content": null,
       "justify_items": null,
       "left": null,
       "margin": null,
       "max_height": null,
       "max_width": null,
       "min_height": null,
       "min_width": null,
       "object_fit": null,
       "object_position": null,
       "order": null,
       "overflow": null,
       "overflow_x": null,
       "overflow_y": null,
       "padding": null,
       "right": null,
       "top": null,
       "visibility": null,
       "width": null
      }
     },
     "e40952094c684a3c821832b6250ad69d": {
      "model_module": "@jupyter-widgets/controls",
      "model_module_version": "1.5.0",
      "model_name": "DescriptionStyleModel",
      "state": {
       "_model_module": "@jupyter-widgets/controls",
       "_model_module_version": "1.5.0",
       "_model_name": "DescriptionStyleModel",
       "_view_count": null,
       "_view_module": "@jupyter-widgets/base",
       "_view_module_version": "1.2.0",
       "_view_name": "StyleView",
       "description_width": ""
      }
     },
     "e8a65111604647c0a82eda6f0bcc245f": {
      "model_module": "@jupyter-widgets/controls",
      "model_module_version": "1.5.0",
      "model_name": "HTMLModel",
      "state": {
       "_dom_classes": [],
       "_model_module": "@jupyter-widgets/controls",
       "_model_module_version": "1.5.0",
       "_model_name": "HTMLModel",
       "_view_count": null,
       "_view_module": "@jupyter-widgets/controls",
       "_view_module_version": "1.5.0",
       "_view_name": "HTMLView",
       "description": "",
       "description_tooltip": null,
       "layout": "IPY_MODEL_b5474536f3af459a9ff072a0dbb44e6a",
       "placeholder": "​",
       "style": "IPY_MODEL_2ceb472864c34b66b863718399fa8da1",
       "value": " 1/1 [00:01&lt;00:00,  1.55s/it]"
      }
     },
     "eef0b36ac0774a7b9f09a9d5177bca5e": {
      "model_module": "@jupyter-widgets/controls",
      "model_module_version": "1.5.0",
      "model_name": "DescriptionStyleModel",
      "state": {
       "_model_module": "@jupyter-widgets/controls",
       "_model_module_version": "1.5.0",
       "_model_name": "DescriptionStyleModel",
       "_view_count": null,
       "_view_module": "@jupyter-widgets/base",
       "_view_module_version": "1.2.0",
       "_view_name": "StyleView",
       "description_width": ""
      }
     },
     "f1b0b2112cce49d59fe45560523f32dd": {
      "model_module": "@jupyter-widgets/controls",
      "model_module_version": "1.5.0",
      "model_name": "DescriptionStyleModel",
      "state": {
       "_model_module": "@jupyter-widgets/controls",
       "_model_module_version": "1.5.0",
       "_model_name": "DescriptionStyleModel",
       "_view_count": null,
       "_view_module": "@jupyter-widgets/base",
       "_view_module_version": "1.2.0",
       "_view_name": "StyleView",
       "description_width": ""
      }
     },
     "f4100cc9be54405ebad2fcf92007499b": {
      "model_module": "@jupyter-widgets/controls",
      "model_module_version": "1.5.0",
      "model_name": "DescriptionStyleModel",
      "state": {
       "_model_module": "@jupyter-widgets/controls",
       "_model_module_version": "1.5.0",
       "_model_name": "DescriptionStyleModel",
       "_view_count": null,
       "_view_module": "@jupyter-widgets/base",
       "_view_module_version": "1.2.0",
       "_view_name": "StyleView",
       "description_width": ""
      }
     },
     "f655046bfda142d7802cbbe666b3b564": {
      "model_module": "@jupyter-widgets/base",
      "model_module_version": "1.2.0",
      "model_name": "LayoutModel",
      "state": {
       "_model_module": "@jupyter-widgets/base",
       "_model_module_version": "1.2.0",
       "_model_name": "LayoutModel",
       "_view_count": null,
       "_view_module": "@jupyter-widgets/base",
       "_view_module_version": "1.2.0",
       "_view_name": "LayoutView",
       "align_content": null,
       "align_items": null,
       "align_self": null,
       "border": null,
       "bottom": null,
       "display": null,
       "flex": null,
       "flex_flow": null,
       "grid_area": null,
       "grid_auto_columns": null,
       "grid_auto_flow": null,
       "grid_auto_rows": null,
       "grid_column": null,
       "grid_gap": null,
       "grid_row": null,
       "grid_template_areas": null,
       "grid_template_columns": null,
       "grid_template_rows": null,
       "height": null,
       "justify_content": null,
       "justify_items": null,
       "left": null,
       "margin": null,
       "max_height": null,
       "max_width": null,
       "min_height": null,
       "min_width": null,
       "object_fit": null,
       "object_position": null,
       "order": null,
       "overflow": null,
       "overflow_x": null,
       "overflow_y": null,
       "padding": null,
       "right": null,
       "top": null,
       "visibility": null,
       "width": null
      }
     },
     "f770959fce1546d190bcb41bd6c69850": {
      "model_module": "@jupyter-widgets/base",
      "model_module_version": "1.2.0",
      "model_name": "LayoutModel",
      "state": {
       "_model_module": "@jupyter-widgets/base",
       "_model_module_version": "1.2.0",
       "_model_name": "LayoutModel",
       "_view_count": null,
       "_view_module": "@jupyter-widgets/base",
       "_view_module_version": "1.2.0",
       "_view_name": "LayoutView",
       "align_content": null,
       "align_items": null,
       "align_self": null,
       "border": null,
       "bottom": null,
       "display": null,
       "flex": null,
       "flex_flow": null,
       "grid_area": null,
       "grid_auto_columns": null,
       "grid_auto_flow": null,
       "grid_auto_rows": null,
       "grid_column": null,
       "grid_gap": null,
       "grid_row": null,
       "grid_template_areas": null,
       "grid_template_columns": null,
       "grid_template_rows": null,
       "height": null,
       "justify_content": null,
       "justify_items": null,
       "left": null,
       "margin": null,
       "max_height": null,
       "max_width": null,
       "min_height": null,
       "min_width": null,
       "object_fit": null,
       "object_position": null,
       "order": null,
       "overflow": null,
       "overflow_x": null,
       "overflow_y": null,
       "padding": null,
       "right": null,
       "top": null,
       "visibility": null,
       "width": null
      }
     }
    },
    "version_major": 2,
    "version_minor": 0
   }
  }
 },
 "nbformat": 4,
 "nbformat_minor": 5
}
